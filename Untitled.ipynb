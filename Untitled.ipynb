{
  "nbformat": 4,
  "nbformat_minor": 0,
  "metadata": {
    "colab": {
      "name": "Untitled",
      "provenance": [],
      "authorship_tag": "ABX9TyMsWpRieOBiPQLctzul+on2",
      "include_colab_link": true
    },
    "kernelspec": {
      "name": "python3",
      "display_name": "Python 3"
    },
    "language_info": {
      "name": "python"
    }
  },
  "cells": [
    {
      "cell_type": "markdown",
      "metadata": {
        "id": "view-in-github",
        "colab_type": "text"
      },
      "source": [
        "<a href=\"https://colab.research.google.com/github/AlexeyBogatyrev/Proj_1sem_Bogatyrev/blob/master/Untitled.ipynb\" target=\"_parent\"><img src=\"https://colab.research.google.com/assets/colab-badge.svg\" alt=\"Open In Colab\"/></a>"
      ]
    },
    {
      "cell_type": "code",
      "execution_count": 2,
      "metadata": {
        "colab": {
          "base_uri": "https://localhost:8080/"
        },
        "id": "ySFVOftE6XgR",
        "outputId": "ba1f6cf6-c773-486a-84c2-87bf654a0b03"
      },
      "outputs": [
        {
          "output_type": "stream",
          "name": "stdout",
          "text": [
            "Введите первое целое число 1\n",
            "Введите второе целое число 1\n",
            "Выссказывание не верно\n"
          ]
        }
      ],
      "source": [
        "a = input(\"Введите первое целое число \")\n",
        "while type(a) !=int:\n",
        "    try:\n",
        "        a = int(a)\n",
        "    except ValueError:\n",
        "        print(\"Введите целое число!\")\n",
        "        a = input(\"Введите первое целое число \")\n",
        "b = input(\"Введите второе целое число \")\n",
        "while type(b) !=int:\n",
        "    try:\n",
        "        b = int(b)\n",
        "    except ValueError:\n",
        "        print(\"Введите целое число!\")\n",
        "        b = input(\"Введите второе целое число \")\n",
        "if a>2 and b<3:\n",
        "    print(\"Высказывание верно!\")\n",
        "else:\n",
        "    print(\"Выссказывание не верно\")"
      ]
    },
    {
      "cell_type": "code",
      "source": [
        "i = 0.1\n",
        "s = float(input(\"Введите цену за 1 кг конфет: \"))\n",
        "if s<0:    #Проврка на положительное число\n",
        "    pass\n",
        "else:\n",
        "    a = 0\n",
        "    while i <= 1:\n",
        "        a = round(i * s)\n",
        "        i = i + 0.1\n",
        "        print(\"Цена\", a)\n"
      ],
      "metadata": {
        "colab": {
          "base_uri": "https://localhost:8080/"
        },
        "id": "6GW3c86N7S_g",
        "outputId": "bfb64a12-cc3a-4b15-a88b-8b11a3c2c136"
      },
      "execution_count": 3,
      "outputs": [
        {
          "output_type": "stream",
          "name": "stdout",
          "text": [
            "Введите цену за 1 кг конфет: 100\n",
            "Цена 10\n",
            "Цена 20\n",
            "Цена 30\n",
            "Цена 40\n",
            "Цена 50\n",
            "Цена 60\n",
            "Цена 70\n",
            "Цена 80\n",
            "Цена 90\n",
            "Цена 100\n"
          ]
        }
      ]
    },
    {
      "cell_type": "code",
      "source": [
        "\n",
        "def summa():\n",
        "    list = range(1, 61)\n",
        "    a = sum(list)\n",
        "    print(a)\n",
        "summa()"
      ],
      "metadata": {
        "colab": {
          "base_uri": "https://localhost:8080/"
        },
        "id": "PSR4QcRM7YaP",
        "outputId": "a6718ccc-6bec-427e-bb95-6394996074fc"
      },
      "execution_count": 7,
      "outputs": [
        {
          "output_type": "stream",
          "name": "stdout",
          "text": [
            "1830\n"
          ]
        }
      ]
    }
  ]
}