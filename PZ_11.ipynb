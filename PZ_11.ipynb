{
  "nbformat": 4,
  "nbformat_minor": 0,
  "metadata": {
    "colab": {
      "name": "PZ_11.ipynb",
      "provenance": [],
      "authorship_tag": "ABX9TyOMRGCU8pNtkxNhhNxOTRac",
      "include_colab_link": true
    },
    "kernelspec": {
      "name": "python3",
      "display_name": "Python 3"
    },
    "language_info": {
      "name": "python"
    }
  },
  "cells": [
    {
      "cell_type": "markdown",
      "metadata": {
        "id": "view-in-github",
        "colab_type": "text"
      },
      "source": [
        "<a href=\"https://colab.research.google.com/github/AlexeyBogatyrev/Proj_1sem_Bogatyrev/blob/master/PZ_11.ipynb\" target=\"_parent\"><img src=\"https://colab.research.google.com/assets/colab-badge.svg\" alt=\"Open In Colab\"/></a>"
      ]
    },
    {
      "cell_type": "code",
      "execution_count": 1,
      "metadata": {
        "colab": {
          "base_uri": "https://localhost:8080/"
        },
        "id": "UyjpTE-W8aHJ",
        "outputId": "2586f7c3-e1ec-4267-90ff-f6ad52596460"
      },
      "outputs": [
        {
          "output_type": "stream",
          "name": "stdout",
          "text": [
            "Введите первое целое число 2\n",
            "Введите второе целое число 2\n",
            "Выссказывание не верно\n"
          ]
        }
      ],
      "source": [
        "#Даны два целых числа: A, B. Проверить истинность высказывания: «Справедливы\n",
        "#неравенства A > 2 и B < 3».\n",
        "a = input(\"Введите первое целое число \")\n",
        "while type(a) !=int:\n",
        "    try:\n",
        "        a = int(a)\n",
        "    except ValueError:\n",
        "        print(\"Введите целое число!\")\n",
        "        a = input(\"Введите первое целое число \")\n",
        "b = input(\"Введите второе целое число \")\n",
        "while type(b) !=int:\n",
        "    try:\n",
        "        b = int(b)\n",
        "    except ValueError:\n",
        "        print(\"Введите целое число!\")\n",
        "        b = input(\"Введите второе целое число \")\n",
        "if a>2 and b<3:\n",
        "    print(\"Высказывание верно!\")\n",
        "else:\n",
        "    print(\"Выссказывание не верно\")"
      ]
    },
    {
      "cell_type": "markdown",
      "source": [
        "PZ#3"
      ],
      "metadata": {
        "id": "9r1Y4FLG8hUl"
      }
    },
    {
      "cell_type": "code",
      "source": [
        "# Дано вещественное число — цена 1 кг конфет. Вывести стоимость 0.1, 0.2, ..., 1 кг конфет.\n",
        "\n",
        "i = 0.1\n",
        "s = float(input(\"Введите цену за 1 кг конфет: \"))\n",
        "if s<0:    #Проврка на положительное число\n",
        "    pass\n",
        "else:\n",
        "    a = 0\n",
        "    while i <= 1:\n",
        "        a = round(i * s)\n",
        "        i = i + 0.1\n",
        "        print(\"Цена\", a)\n"
      ],
      "metadata": {
        "colab": {
          "base_uri": "https://localhost:8080/"
        },
        "id": "U2BYppTu8lPQ",
        "outputId": "3904be93-a1bf-4f8d-8236-7a2c6446115a"
      },
      "execution_count": 2,
      "outputs": [
        {
          "output_type": "stream",
          "name": "stdout",
          "text": [
            "Введите цену за 1 кг конфет: 100\n",
            "Цена 10\n",
            "Цена 20\n",
            "Цена 30\n",
            "Цена 40\n",
            "Цена 50\n",
            "Цена 60\n",
            "Цена 70\n",
            "Цена 80\n",
            "Цена 90\n",
            "Цена 100\n"
          ]
        }
      ]
    },
    {
      "cell_type": "markdown",
      "source": [
        "PZ#4"
      ],
      "metadata": {
        "id": "YI3Ki9IT8tfM"
      }
    },
    {
      "cell_type": "code",
      "source": [
        "#Найти сумму чисел ряда 1,2,3,...,60 с использованием функции нахождения суммы. Использовать локальные переменные\n",
        "def summa():\n",
        "    list = range(1, 61)\n",
        "    a = sum(list)\n",
        "    print(a)\n",
        "summa()"
      ],
      "metadata": {
        "colab": {
          "base_uri": "https://localhost:8080/"
        },
        "id": "6YBt4Ma68wBU",
        "outputId": "ed70067b-755f-4810-9fca-f47f13101845"
      },
      "execution_count": 3,
      "outputs": [
        {
          "output_type": "stream",
          "name": "stdout",
          "text": [
            "1830\n"
          ]
        }
      ]
    },
    {
      "cell_type": "markdown",
      "source": [
        "PZ#5"
      ],
      "metadata": {
        "id": "j_A3Mi4e818k"
      }
    }
  ]
}